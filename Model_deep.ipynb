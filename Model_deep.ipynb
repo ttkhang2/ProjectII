{
 "cells": [
  {
   "cell_type": "code",
   "execution_count": 1,
   "metadata": {},
   "outputs": [],
   "source": [
    "import pandas as pd\n",
    "from keras.preprocessing import sequence\n",
    "from keras.models import Sequential\n",
    "from keras.layers import Dense, Dropout, Activation\n",
    "from keras.layers import Embedding, LSTM, Bidirectional, SpatialDropout1D\n",
    "from keras.layers import Conv1D, Flatten,MaxPooling1D\n",
    "import wandb\n",
    "from wandb.keras import WandbCallback\n",
    "import numpy as np\n",
    "from keras.preprocessing import text\n",
    "import numpy as np\n",
    "import matplotlib.pyplot as plt\n",
    "from keras.preprocessing.text import Tokenizer\n",
    "from keras.utils import pad_sequences\n",
    "from keras.utils import to_categorical\n",
    "from sklearn.model_selection import train_test_split\n",
    "from keras.optimizers import Adam"
   ]
  },
  {
   "cell_type": "code",
   "execution_count": 2,
   "metadata": {},
   "outputs": [
    {
     "data": {
      "text/html": [
       "<div>\n",
       "<style scoped>\n",
       "    .dataframe tbody tr th:only-of-type {\n",
       "        vertical-align: middle;\n",
       "    }\n",
       "\n",
       "    .dataframe tbody tr th {\n",
       "        vertical-align: top;\n",
       "    }\n",
       "\n",
       "    .dataframe thead th {\n",
       "        text-align: right;\n",
       "    }\n",
       "</style>\n",
       "<table border=\"1\" class=\"dataframe\">\n",
       "  <thead>\n",
       "    <tr style=\"text-align: right;\">\n",
       "      <th></th>\n",
       "      <th>Label</th>\n",
       "      <th>Text</th>\n",
       "    </tr>\n",
       "  </thead>\n",
       "  <tbody>\n",
       "    <tr>\n",
       "      <th>0</th>\n",
       "      <td>Chinh tri Xa hoi</td>\n",
       "      <td>thành_lập dự_án policy phòng_chống hivaids ở v...</td>\n",
       "    </tr>\n",
       "    <tr>\n",
       "      <th>1</th>\n",
       "      <td>Chinh tri Xa hoi</td>\n",
       "      <td>hơn 16 000 khách đến vịnh nha trang theo trực_...</td>\n",
       "    </tr>\n",
       "    <tr>\n",
       "      <th>2</th>\n",
       "      <td>Chinh tri Xa hoi</td>\n",
       "      <td>tphcm khai_trương dịch_vụ lặn biển săn cá_mập ...</td>\n",
       "    </tr>\n",
       "    <tr>\n",
       "      <th>3</th>\n",
       "      <td>Chinh tri Xa hoi</td>\n",
       "      <td>du_lịch vn sẽ có tư_vấn nước_ngoài ông phạm từ...</td>\n",
       "    </tr>\n",
       "    <tr>\n",
       "      <th>4</th>\n",
       "      <td>Chinh tri Xa hoi</td>\n",
       "      <td>quy_chế tuyển_sinh 2006 không làm_tròn điểm từ...</td>\n",
       "    </tr>\n",
       "  </tbody>\n",
       "</table>\n",
       "</div>"
      ],
      "text/plain": [
       "              Label                                               Text\n",
       "0  Chinh tri Xa hoi  thành_lập dự_án policy phòng_chống hivaids ở v...\n",
       "1  Chinh tri Xa hoi  hơn 16 000 khách đến vịnh nha trang theo trực_...\n",
       "2  Chinh tri Xa hoi  tphcm khai_trương dịch_vụ lặn biển săn cá_mập ...\n",
       "3  Chinh tri Xa hoi  du_lịch vn sẽ có tư_vấn nước_ngoài ông phạm từ...\n",
       "4  Chinh tri Xa hoi  quy_chế tuyển_sinh 2006 không làm_tròn điểm từ..."
      ]
     },
     "execution_count": 2,
     "metadata": {},
     "output_type": "execute_result"
    }
   ],
   "source": [
    "df = pd.read_csv(\"F://NLP_ProjectII/merged.csv\", encoding='utf-16')\n",
    "df.head()"
   ]
  },
  {
   "cell_type": "code",
   "execution_count": 3,
   "metadata": {},
   "outputs": [
    {
     "name": "stdout",
     "output_type": "stream",
     "text": [
      "Label\n",
      "Chinh tri Xa hoi    12786\n",
      "The thao            11965\n",
      "The gioi             9614\n",
      "Van hoa              9330\n",
      "Suc khoe             8801\n",
      "Kinh doanh           7828\n",
      "Phap luat            7656\n",
      "Vi tinh              7041\n",
      "Doi song             5195\n",
      "Khoa hoc             3916\n",
      "Name: count, dtype: int64\n"
     ]
    }
   ],
   "source": [
    "label_counts = df['Label'].value_counts()\n",
    "print(label_counts)"
   ]
  },
  {
   "cell_type": "code",
   "execution_count": 4,
   "metadata": {},
   "outputs": [
    {
     "data": {
      "image/png": "[encoded data removed]",
      "text/plain": [
       "<Figure size 640x480 with 1 Axes>"
      ]
     },
     "metadata": {},
     "output_type": "display_data"
    }
   ],
   "source": [
    "seq_len =[len(i.split()) for i in df.Text]\n",
    "pd.Series(seq_len).hist(bins = 100)\n",
    "plt.show()"
   ]
  },
  {
   "cell_type": "code",
   "execution_count": 5,
   "metadata": {},
   "outputs": [
    {
     "name": "stdout",
     "output_type": "stream",
     "text": [
      "[13065, 5]\n"
     ]
    }
   ],
   "source": [
    "print([max(seq_len), min (seq_len)])"
   ]
  },
  {
   "cell_type": "code",
   "execution_count": 6,
   "metadata": {},
   "outputs": [
    {
     "name": "stderr",
     "output_type": "stream",
     "text": [
      "Failed to detect the name of this notebook, you can set it manually with the WANDB_NOTEBOOK_NAME environment variable to enable code saving.\n",
      "\u001b[34m\u001b[1mwandb\u001b[0m: Currently logged in as: \u001b[33mttkhang202\u001b[0m. Use \u001b[1m`wandb login --relogin`\u001b[0m to force relogin\n"
     ]
    },
    {
     "data": {
      "text/html": [
       "wandb version 0.15.5 is available!  To upgrade, please run:\n",
       " $ pip install wandb --upgrade"
      ],
      "text/plain": [
       "<IPython.core.display.HTML object>"
      ]
     },
     "metadata": {},
     "output_type": "display_data"
    },
    {
     "data": {
      "text/html": [
       "Tracking run with wandb version 0.14.0"
      ],
      "text/plain": [
       "<IPython.core.display.HTML object>"
      ]
     },
     "metadata": {},
     "output_type": "display_data"
    },
    {
     "data": {
      "text/html": [
       "Run data is saved locally in <code>f:\\NLP_ProjectII\\wandb\\run-20230721_173204-amxdg22q</code>"
      ],
      "text/plain": [
       "<IPython.core.display.HTML object>"
      ]
     },
     "metadata": {},
     "output_type": "display_data"
    },
    {
     "data": {
      "text/html": [
       "Syncing run <strong><a href='https://wandb.ai/ttkhang202/NLP_ProjectII/runs/amxdg22q' target=\"_blank\">scarlet-feather-7</a></strong> to <a href='https://wandb.ai/ttkhang202/NLP_ProjectII' target=\"_blank\">Weights & Biases</a> (<a href='https://wandb.me/run' target=\"_blank\">docs</a>)<br/>"
      ],
      "text/plain": [
       "<IPython.core.display.HTML object>"
      ]
     },
     "metadata": {},
     "output_type": "display_data"
    },
    {
     "data": {
      "text/html": [
       " View project at <a href='https://wandb.ai/ttkhang202/NLP_ProjectII' target=\"_blank\">https://wandb.ai/ttkhang202/NLP_ProjectII</a>"
      ],
      "text/plain": [
       "<IPython.core.display.HTML object>"
      ]
     },
     "metadata": {},
     "output_type": "display_data"
    },
    {
     "data": {
      "text/html": [
       " View run at <a href='https://wandb.ai/ttkhang202/NLP_ProjectII/runs/amxdg22q' target=\"_blank\">https://wandb.ai/ttkhang202/NLP_ProjectII/runs/amxdg22q</a>"
      ],
      "text/plain": [
       "<IPython.core.display.HTML object>"
      ]
     },
     "metadata": {},
     "output_type": "display_data"
    }
   ],
   "source": [
    "wandb.init()\n",
    "config = wandb.config\n",
    "\n",
    "config.vocab_size = 50000\n",
    "config.maxlen = 500\n",
    "config.batch_size = 32\n",
    "config.embedding_dims = 50\n",
    "config.filters = 10\n",
    "config.kernel_size = 3\n",
    "config.hidden_dims = 10\n",
    "config.epochs = 10\n"
   ]
  },
  {
   "cell_type": "code",
   "execution_count": 7,
   "metadata": {},
   "outputs": [
    {
     "name": "stdout",
     "output_type": "stream",
     "text": [
      "136920\n"
     ]
    }
   ],
   "source": [
    "tokenizer = Tokenizer(num_words= config.vocab_size)\n",
    "tokenizer.fit_on_texts(df['Text'].values)\n",
    "\n",
    "le = len(tokenizer.word_index) + 1\n",
    "print(le)\n",
    "sequences = tokenizer.texts_to_sequences(df['Text'].values)                                        \n",
    "X_DeepLearning = pad_sequences(sequences, maxlen= config.maxlen)"
   ]
  },
  {
   "cell_type": "code",
   "execution_count": 8,
   "metadata": {},
   "outputs": [
    {
     "name": "stdout",
     "output_type": "stream",
     "text": [
      "((53002, 500), (53002, 10), (25240, 500), (25240, 10))\n"
     ]
    }
   ],
   "source": [
    "df.loc[df['Label'] == 'Chinh tri Xa hoi', 'Label'] = 0\n",
    "df.loc[df['Label'] == 'The thao', 'Label'] = 1\n",
    "df.loc[df['Label'] == 'The gioi', 'Label'] = 2\n",
    "df.loc[df['Label'] == 'Van hoa', 'Label'] = 3\n",
    "df.loc[df['Label'] == 'Suc khoe', 'Label'] = 4\n",
    "df.loc[df['Label'] == 'Kinh doanh', 'Label'] = 5\n",
    "df.loc[df['Label'] == 'Phap luat', 'Label'] = 6\n",
    "df.loc[df['Label'] == 'Vi tinh', 'Label'] = 7\n",
    "df.loc[df['Label'] == 'Doi song', 'Label'] = 8\n",
    "df.loc[df['Label'] == 'Khoa hoc', 'Label'] = 9\n",
    "\n",
    "labels = to_categorical(df['Label'], num_classes=10)\n",
    "X_train, X_test, y_train, y_test = train_test_split(X_DeepLearning, labels, test_size=0.3, random_state=42)\n",
    "X_train, X_valid, y_train, y_valid = train_test_split(X_train, y_train, test_size=0.1,random_state=42)\n",
    "print((X_train.shape, y_train.shape, X_test.shape, y_test.shape))\n"
   ]
  },
  {
   "cell_type": "code",
   "execution_count": 9,
   "metadata": {},
   "outputs": [
    {
     "name": "stdout",
     "output_type": "stream",
     "text": [
      "Model: \"sequential\"\n",
      "_________________________________________________________________\n",
      " Layer (type)                Output Shape              Param #   \n",
      "=================================================================\n",
      " embedding (Embedding)       (None, 500, 50)           2500000   \n",
      "                                                                 \n",
      " conv1d (Conv1D)             (None, 498, 10)           1510      \n",
      "                                                                 \n",
      " max_pooling1d (MaxPooling1D  (None, 249, 10)          0         \n",
      " )                                                               \n",
      "                                                                 \n",
      " lstm (LSTM)                 (None, 10)                840       \n",
      "                                                                 \n",
      " dense (Dense)               (None, 10)                110       \n",
      "                                                                 \n",
      "=================================================================\n",
      "Total params: 2,502,460\n",
      "Trainable params: 2,502,460\n",
      "Non-trainable params: 0\n",
      "_________________________________________________________________\n"
     ]
    },
    {
     "name": "stderr",
     "output_type": "stream",
     "text": [
      "\u001b[34m\u001b[1mwandb\u001b[0m: \u001b[33mWARNING\u001b[0m The save_model argument by default saves the model in the HDF5 format that cannot save custom objects like subclassed models and custom layers. This behavior will be deprecated in a future release in favor of the SavedModel format. Meanwhile, the HDF5 model is saved as W&B files and the SavedModel as W&B Artifacts.\n"
     ]
    },
    {
     "name": "stdout",
     "output_type": "stream",
     "text": [
      "Epoch 1/10\n",
      "1657/1657 [==============================] - ETA: 0s - loss: 1.7804 - accuracy: 0.4006"
     ]
    },
    {
     "name": "stderr",
     "output_type": "stream",
     "text": [
      "WARNING:absl:Found untraced functions such as _jit_compiled_convolution_op, _update_step_xla while saving (showing 2 of 2). These functions will not be directly callable after loading.\n"
     ]
    },
    {
     "name": "stdout",
     "output_type": "stream",
     "text": [
      "INFO:tensorflow:Assets written to: f:\\NLP_ProjectII\\wandb\\run-20230721_110014-x8q1kfhc\\files\\model-best\\assets\n"
     ]
    },
    {
     "name": "stderr",
     "output_type": "stream",
     "text": [
      "INFO:tensorflow:Assets written to: f:\\NLP_ProjectII\\wandb\\run-20230721_110014-x8q1kfhc\\files\\model-best\\assets\n",
      "\u001b[34m\u001b[1mwandb\u001b[0m: Adding directory to artifact (f:\\NLP_ProjectII\\wandb\\run-20230721_110014-x8q1kfhc\\files\\model-best)... Done. 0.1s\n"
     ]
    },
    {
     "name": "stdout",
     "output_type": "stream",
     "text": [
      "1657/1657 [==============================] - 154s 92ms/step - loss: 1.7804 - accuracy: 0.4006 - val_loss: 1.3022 - val_accuracy: 0.6197\n",
      "Epoch 2/10\n",
      "1657/1657 [==============================] - ETA: 0s - loss: 1.0187 - accuracy: 0.7187"
     ]
    },
    {
     "name": "stderr",
     "output_type": "stream",
     "text": [
      "WARNING:absl:Found untraced functions such as _jit_compiled_convolution_op, _update_step_xla while saving (showing 2 of 2). These functions will not be directly callable after loading.\n"
     ]
    },
    {
     "name": "stdout",
     "output_type": "stream",
     "text": [
      "INFO:tensorflow:Assets written to: f:\\NLP_ProjectII\\wandb\\run-20230721_110014-x8q1kfhc\\files\\model-best\\assets\n"
     ]
    },
    {
     "name": "stderr",
     "output_type": "stream",
     "text": [
      "INFO:tensorflow:Assets written to: f:\\NLP_ProjectII\\wandb\\run-20230721_110014-x8q1kfhc\\files\\model-best\\assets\n",
      "\u001b[34m\u001b[1mwandb\u001b[0m: Adding directory to artifact (f:\\NLP_ProjectII\\wandb\\run-20230721_110014-x8q1kfhc\\files\\model-best)... Done. 0.1s\n"
     ]
    },
    {
     "name": "stdout",
     "output_type": "stream",
     "text": [
      "1657/1657 [==============================] - 157s 94ms/step - loss: 1.0187 - accuracy: 0.7187 - val_loss: 0.8707 - val_accuracy: 0.7750\n",
      "Epoch 3/10\n",
      "1657/1657 [==============================] - ETA: 0s - loss: 0.6583 - accuracy: 0.8315"
     ]
    },
    {
     "name": "stderr",
     "output_type": "stream",
     "text": [
      "WARNING:absl:Found untraced functions such as _jit_compiled_convolution_op, _update_step_xla while saving (showing 2 of 2). These functions will not be directly callable after loading.\n"
     ]
    },
    {
     "name": "stdout",
     "output_type": "stream",
     "text": [
      "INFO:tensorflow:Assets written to: f:\\NLP_ProjectII\\wandb\\run-20230721_110014-x8q1kfhc\\files\\model-best\\assets\n"
     ]
    },
    {
     "name": "stderr",
     "output_type": "stream",
     "text": [
      "INFO:tensorflow:Assets written to: f:\\NLP_ProjectII\\wandb\\run-20230721_110014-x8q1kfhc\\files\\model-best\\assets\n",
      "\u001b[34m\u001b[1mwandb\u001b[0m: Adding directory to artifact (f:\\NLP_ProjectII\\wandb\\run-20230721_110014-x8q1kfhc\\files\\model-best)... Done. 0.1s\n"
     ]
    },
    {
     "name": "stdout",
     "output_type": "stream",
     "text": [
      "1657/1657 [==============================] - 154s 93ms/step - loss: 0.6583 - accuracy: 0.8315 - val_loss: 0.6561 - val_accuracy: 0.8166\n",
      "Epoch 4/10\n",
      "1657/1657 [==============================] - ETA: 0s - loss: 0.4666 - accuracy: 0.8743"
     ]
    },
    {
     "name": "stderr",
     "output_type": "stream",
     "text": [
      "WARNING:absl:Found untraced functions such as _jit_compiled_convolution_op, _update_step_xla while saving (showing 2 of 2). These functions will not be directly callable after loading.\n"
     ]
    },
    {
     "name": "stdout",
     "output_type": "stream",
     "text": [
      "INFO:tensorflow:Assets written to: f:\\NLP_ProjectII\\wandb\\run-20230721_110014-x8q1kfhc\\files\\model-best\\assets\n"
     ]
    },
    {
     "name": "stderr",
     "output_type": "stream",
     "text": [
      "INFO:tensorflow:Assets written to: f:\\NLP_ProjectII\\wandb\\run-20230721_110014-x8q1kfhc\\files\\model-best\\assets\n",
      "\u001b[34m\u001b[1mwandb\u001b[0m: Adding directory to artifact (f:\\NLP_ProjectII\\wandb\\run-20230721_110014-x8q1kfhc\\files\\model-best)... Done. 0.1s\n"
     ]
    },
    {
     "name": "stdout",
     "output_type": "stream",
     "text": [
      "1657/1657 [==============================] - 155s 93ms/step - loss: 0.4666 - accuracy: 0.8743 - val_loss: 0.5792 - val_accuracy: 0.8362\n",
      "Epoch 5/10\n",
      "1657/1657 [==============================] - ETA: 0s - loss: 0.3503 - accuracy: 0.9104"
     ]
    },
    {
     "name": "stderr",
     "output_type": "stream",
     "text": [
      "WARNING:absl:Found untraced functions such as _jit_compiled_convolution_op, _update_step_xla while saving (showing 2 of 2). These functions will not be directly callable after loading.\n"
     ]
    },
    {
     "name": "stdout",
     "output_type": "stream",
     "text": [
      "INFO:tensorflow:Assets written to: f:\\NLP_ProjectII\\wandb\\run-20230721_110014-x8q1kfhc\\files\\model-best\\assets\n"
     ]
    },
    {
     "name": "stderr",
     "output_type": "stream",
     "text": [
      "INFO:tensorflow:Assets written to: f:\\NLP_ProjectII\\wandb\\run-20230721_110014-x8q1kfhc\\files\\model-best\\assets\n",
      "\u001b[34m\u001b[1mwandb\u001b[0m: Adding directory to artifact (f:\\NLP_ProjectII\\wandb\\run-20230721_110014-x8q1kfhc\\files\\model-best)... Done. 0.1s\n"
     ]
    },
    {
     "name": "stdout",
     "output_type": "stream",
     "text": [
      "1657/1657 [==============================] - 149s 90ms/step - loss: 0.3503 - accuracy: 0.9104 - val_loss: 0.5687 - val_accuracy: 0.8470\n",
      "Epoch 6/10\n",
      "1657/1657 [==============================] - ETA: 0s - loss: 0.2711 - accuracy: 0.9362"
     ]
    },
    {
     "name": "stderr",
     "output_type": "stream",
     "text": [
      "WARNING:absl:Found untraced functions such as _jit_compiled_convolution_op, _update_step_xla while saving (showing 2 of 2). These functions will not be directly callable after loading.\n"
     ]
    },
    {
     "name": "stdout",
     "output_type": "stream",
     "text": [
      "INFO:tensorflow:Assets written to: f:\\NLP_ProjectII\\wandb\\run-20230721_110014-x8q1kfhc\\files\\model-best\\assets\n"
     ]
    },
    {
     "name": "stderr",
     "output_type": "stream",
     "text": [
      "INFO:tensorflow:Assets written to: f:\\NLP_ProjectII\\wandb\\run-20230721_110014-x8q1kfhc\\files\\model-best\\assets\n",
      "\u001b[34m\u001b[1mwandb\u001b[0m: Adding directory to artifact (f:\\NLP_ProjectII\\wandb\\run-20230721_110014-x8q1kfhc\\files\\model-best)... Done. 0.1s\n"
     ]
    },
    {
     "name": "stdout",
     "output_type": "stream",
     "text": [
      "1657/1657 [==============================] - 124s 75ms/step - loss: 0.2711 - accuracy: 0.9362 - val_loss: 0.5613 - val_accuracy: 0.8458\n",
      "Epoch 7/10\n",
      "1657/1657 [==============================] - ETA: 0s - loss: 0.2129 - accuracy: 0.9515"
     ]
    },
    {
     "name": "stderr",
     "output_type": "stream",
     "text": [
      "WARNING:absl:Found untraced functions such as _jit_compiled_convolution_op, _update_step_xla while saving (showing 2 of 2). These functions will not be directly callable after loading.\n"
     ]
    },
    {
     "name": "stdout",
     "output_type": "stream",
     "text": [
      "INFO:tensorflow:Assets written to: f:\\NLP_ProjectII\\wandb\\run-20230721_110014-x8q1kfhc\\files\\model-best\\assets\n"
     ]
    },
    {
     "name": "stderr",
     "output_type": "stream",
     "text": [
      "INFO:tensorflow:Assets written to: f:\\NLP_ProjectII\\wandb\\run-20230721_110014-x8q1kfhc\\files\\model-best\\assets\n",
      "\u001b[34m\u001b[1mwandb\u001b[0m: Adding directory to artifact (f:\\NLP_ProjectII\\wandb\\run-20230721_110014-x8q1kfhc\\files\\model-best)... Done. 0.1s\n"
     ]
    },
    {
     "name": "stdout",
     "output_type": "stream",
     "text": [
      "1657/1657 [==============================] - 125s 75ms/step - loss: 0.2129 - accuracy: 0.9515 - val_loss: 0.5585 - val_accuracy: 0.8521\n",
      "Epoch 8/10\n",
      "1657/1657 [==============================] - ETA: 0s - loss: 0.1733 - accuracy: 0.9605"
     ]
    },
    {
     "name": "stderr",
     "output_type": "stream",
     "text": [
      "WARNING:absl:Found untraced functions such as _jit_compiled_convolution_op, _update_step_xla while saving (showing 2 of 2). These functions will not be directly callable after loading.\n"
     ]
    },
    {
     "name": "stdout",
     "output_type": "stream",
     "text": [
      "INFO:tensorflow:Assets written to: f:\\NLP_ProjectII\\wandb\\run-20230721_110014-x8q1kfhc\\files\\model-best\\assets\n"
     ]
    },
    {
     "name": "stderr",
     "output_type": "stream",
     "text": [
      "INFO:tensorflow:Assets written to: f:\\NLP_ProjectII\\wandb\\run-20230721_110014-x8q1kfhc\\files\\model-best\\assets\n",
      "\u001b[34m\u001b[1mwandb\u001b[0m: Adding directory to artifact (f:\\NLP_ProjectII\\wandb\\run-20230721_110014-x8q1kfhc\\files\\model-best)... Done. 0.1s\n"
     ]
    },
    {
     "name": "stdout",
     "output_type": "stream",
     "text": [
      "1657/1657 [==============================] - 126s 76ms/step - loss: 0.1733 - accuracy: 0.9605 - val_loss: 0.5571 - val_accuracy: 0.8596\n",
      "Epoch 9/10\n",
      "1657/1657 [==============================] - 122s 74ms/step - loss: 0.1385 - accuracy: 0.9691 - val_loss: 0.5967 - val_accuracy: 0.8516\n",
      "Epoch 10/10\n",
      "1657/1657 [==============================] - 123s 74ms/step - loss: 0.1119 - accuracy: 0.9757 - val_loss: 0.5919 - val_accuracy: 0.8584\n"
     ]
    }
   ],
   "source": [
    "model = Sequential()\n",
    "model.add(Embedding(config.vocab_size,\n",
    "                    config.embedding_dims,\n",
    "                    input_length=config.maxlen))\n",
    "model.add(Conv1D(config.filters,\n",
    "                 config.kernel_size,\n",
    "                 padding='valid',\n",
    "                 activation='relu'))\n",
    "model.add(MaxPooling1D())\n",
    "model.add(LSTM(config.hidden_dims, activation=\"sigmoid\"))\n",
    "model.add(Dense(10, activation='sigmoid'))\n",
    "model.summary()\n",
    "model.compile(loss='categorical_crossentropy',\n",
    "              optimizer='adam',\n",
    "              metrics=['accuracy'])\n",
    "\n",
    "history1 = model.fit(X_train, y_train,\n",
    "          batch_size=config.batch_size,\n",
    "          epochs=config.epochs,\n",
    "          validation_data=(X_valid, y_valid), callbacks=[WandbCallback()])"
   ]
  },
  {
   "cell_type": "code",
   "execution_count": 13,
   "metadata": {},
   "outputs": [
    {
     "data": {
      "image/png": "[encoded data removed]",
      "text/plain": [
       "<Figure size 640x480 with 1 Axes>"
      ]
     },
     "metadata": {},
     "output_type": "display_data"
    },
    {
     "data": {
      "image/png": "[encoded data removed]",
      "text/plain": [
       "<Figure size 640x480 with 1 Axes>"
      ]
     },
     "metadata": {},
     "output_type": "display_data"
    }
   ],
   "source": [
    "acc = history1.history['accuracy']                          \n",
    "val_acc = history1.history['val_accuracy']\n",
    "loss = history1.history['loss']\n",
    "val_loss = history1.history['val_loss']\n",
    "\n",
    "plt.plot( acc, 'go', label='Train accuracy')\n",
    "plt.plot( val_acc, 'g', label='Validate accuracy')\n",
    "plt.title('Train and validate accuracy')\n",
    "plt.legend()                                            \n",
    "\n",
    "plt.figure()\n",
    "\n",
    "plt.plot( loss, 'go', label='Train loss')\n",
    "plt.plot( val_loss, 'g', label='Validate loss')\n",
    "plt.title('Train and validate loss')\n",
    "plt.legend()\n",
    "\n",
    "plt.show() "
   ]
  },
  {
   "attachments": {},
   "cell_type": "markdown",
   "metadata": {},
   "source": [
    "LSTM thêm dropout"
   ]
  },
  {
   "cell_type": "code",
   "execution_count": 9,
   "metadata": {},
   "outputs": [],
   "source": [
    "config.epochs = 30"
   ]
  },
  {
   "cell_type": "code",
   "execution_count": 11,
   "metadata": {},
   "outputs": [
    {
     "name": "stdout",
     "output_type": "stream",
     "text": [
      "Model: \"sequential_1\"\n",
      "_________________________________________________________________\n",
      " Layer (type)                Output Shape              Param #   \n",
      "=================================================================\n",
      " embedding_1 (Embedding)     (None, 500, 50)           2500000   \n",
      "                                                                 \n",
      " spatial_dropout1d (SpatialD  (None, 500, 50)          0         \n",
      " ropout1D)                                                       \n",
      "                                                                 \n",
      " lstm (LSTM)                 (None, 64)                29440     \n",
      "                                                                 \n",
      " dense (Dense)               (None, 10)                650       \n",
      "                                                                 \n",
      "=================================================================\n",
      "Total params: 2,530,090\n",
      "Trainable params: 2,530,090\n",
      "Non-trainable params: 0\n",
      "_________________________________________________________________\n"
     ]
    },
    {
     "name": "stderr",
     "output_type": "stream",
     "text": [
      "\u001b[34m\u001b[1mwandb\u001b[0m: \u001b[33mWARNING\u001b[0m The save_model argument by default saves the model in the HDF5 format that cannot save custom objects like subclassed models and custom layers. This behavior will be deprecated in a future release in favor of the SavedModel format. Meanwhile, the HDF5 model is saved as W&B files and the SavedModel as W&B Artifacts.\n"
     ]
    },
    {
     "name": "stdout",
     "output_type": "stream",
     "text": [
      "Epoch 1/30\n",
      "1657/1657 [==============================] - ETA: 0s - loss: 1.9139 - accuracy: 0.2888"
     ]
    },
    {
     "name": "stderr",
     "output_type": "stream",
     "text": [
      "WARNING:absl:Found untraced functions such as _update_step_xla while saving (showing 1 of 1). These functions will not be directly callable after loading.\n"
     ]
    },
    {
     "name": "stdout",
     "output_type": "stream",
     "text": [
      "INFO:tensorflow:Assets written to: f:\\NLP_ProjectII\\wandb\\run-20230721_173204-amxdg22q\\files\\model-best\\assets\n"
     ]
    },
    {
     "name": "stderr",
     "output_type": "stream",
     "text": [
      "INFO:tensorflow:Assets written to: f:\\NLP_ProjectII\\wandb\\run-20230721_173204-amxdg22q\\files\\model-best\\assets\n",
      "\u001b[34m\u001b[1mwandb\u001b[0m: Adding directory to artifact (f:\\NLP_ProjectII\\wandb\\run-20230721_173204-amxdg22q\\files\\model-best)... Done. 0.1s\n"
     ]
    },
    {
     "name": "stdout",
     "output_type": "stream",
     "text": [
      "1657/1657 [==============================] - 549s 330ms/step - loss: 1.9139 - accuracy: 0.2888 - val_loss: 1.5373 - val_accuracy: 0.3784\n",
      "Epoch 2/30\n",
      "1657/1657 [==============================] - ETA: 0s - loss: 1.5408 - accuracy: 0.4418"
     ]
    },
    {
     "name": "stderr",
     "output_type": "stream",
     "text": [
      "WARNING:absl:Found untraced functions such as _update_step_xla while saving (showing 1 of 1). These functions will not be directly callable after loading.\n"
     ]
    },
    {
     "name": "stdout",
     "output_type": "stream",
     "text": [
      "INFO:tensorflow:Assets written to: f:\\NLP_ProjectII\\wandb\\run-20230721_173204-amxdg22q\\files\\model-best\\assets\n"
     ]
    },
    {
     "name": "stderr",
     "output_type": "stream",
     "text": [
      "INFO:tensorflow:Assets written to: f:\\NLP_ProjectII\\wandb\\run-20230721_173204-amxdg22q\\files\\model-best\\assets\n",
      "\u001b[34m\u001b[1mwandb\u001b[0m: Adding directory to artifact (f:\\NLP_ProjectII\\wandb\\run-20230721_173204-amxdg22q\\files\\model-best)... Done. 0.1s\n"
     ]
    },
    {
     "name": "stdout",
     "output_type": "stream",
     "text": [
      "1657/1657 [==============================] - 559s 337ms/step - loss: 1.5408 - accuracy: 0.4418 - val_loss: 1.3594 - val_accuracy: 0.5081\n",
      "Epoch 3/30\n",
      "1657/1657 [==============================] - 573s 346ms/step - loss: 1.3893 - accuracy: 0.5203 - val_loss: 1.7251 - val_accuracy: 0.4645\n",
      "Epoch 4/30\n",
      " 420/1657 [======>.......................] - ETA: 7:20 - loss: 1.3050 - accuracy: 0.5613"
     ]
    }
   ],
   "source": [
    "model2 = Sequential()\n",
    "model2.add(Embedding(config.vocab_size,\n",
    "                    config.embedding_dims,\n",
    "                    input_length=config.maxlen))\n",
    "model2.add(SpatialDropout1D(0.7))\n",
    "model2.add(LSTM(64, dropout=0.7, recurrent_dropout=0.7))\n",
    "model2.add(Dense(10, activation='softmax'))\n",
    "model2.summary()\n",
    "model2.compile(loss='categorical_crossentropy',\n",
    "              optimizer='adam',\n",
    "              metrics=['accuracy'])\n",
    "\n",
    "history2 = model2.fit(X_train, y_train,\n",
    "          batch_size=config.batch_size,\n",
    "          epochs=config.epochs,\n",
    "          validation_data=(X_valid, y_valid), callbacks=[WandbCallback()])"
   ]
  },
  {
   "cell_type": "code",
   "execution_count": null,
   "metadata": {},
   "outputs": [],
   "source": [
    "acc = history2.history['accuracy']                          \n",
    "val_acc = history2.history['val_accuracy']\n",
    "loss = history2.history['loss']\n",
    "val_loss = history2.history['val_loss']\n",
    "\n",
    "plt.plot( acc, 'go', label='Train accuracy')\n",
    "plt.plot( val_acc, 'g', label='Validate accuracy')\n",
    "plt.title('Train and validate accuracy')\n",
    "plt.legend()                                            \n",
    "\n",
    "plt.figure()\n",
    "\n",
    "plt.plot( loss, 'go', label='Train loss')\n",
    "plt.plot( val_loss, 'g', label='Validate loss')\n",
    "plt.title('Train and validate loss')\n",
    "plt.legend()\n",
    "\n",
    "plt.show() "
   ]
  }
 ],
 "metadata": {
  "kernelspec": {
   "display_name": "Python 3",
   "language": "python",
   "name": "python3"
  },
  "language_info": {
   "codemirror_mode": {
    "name": "ipython",
    "version": 3
   },
   "file_extension": ".py",
   "mimetype": "text/x-python",
   "name": "python",
   "nbconvert_exporter": "python",
   "pygments_lexer": "ipython3",
   "version": "3.10.10"
  },
  "orig_nbformat": 4
 },
 "nbformat": 4,
 "nbformat_minor": 2
}
