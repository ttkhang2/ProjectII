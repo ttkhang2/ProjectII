{
 "cells": [
  {
   "cell_type": "code",
   "execution_count": 1,
   "metadata": {},
   "outputs": [],
   "source": [
    "from __future__ import print_function\n",
    "from sklearn.model_selection import train_test_split\n",
    "from sklearn import naive_bayes, metrics, svm\n",
    "from sklearn.feature_extraction.text import CountVectorizer,TfidfTransformer\n",
    "from sklearn.model_selection import train_test_split\n",
    "from sklearn.pipeline import Pipeline\n",
    "from sklearn import neighbors\n",
    "from keras.utils import to_categorical\n",
    "import matplotlib.pyplot as plt\n",
    "import pandas as pd\n",
    "import pickle\n",
    "import time\n",
    "import pandas as pd"
   ]
  },
  {
   "cell_type": "code",
   "execution_count": 2,
   "metadata": {},
   "outputs": [
    {
     "data": {
      "text/html": [
       "<div>\n",
       "<style scoped>\n",
       "    .dataframe tbody tr th:only-of-type {\n",
       "        vertical-align: middle;\n",
       "    }\n",
       "\n",
       "    .dataframe tbody tr th {\n",
       "        vertical-align: top;\n",
       "    }\n",
       "\n",
       "    .dataframe thead th {\n",
       "        text-align: right;\n",
       "    }\n",
       "</style>\n",
       "<table border=\"1\" class=\"dataframe\">\n",
       "  <thead>\n",
       "    <tr style=\"text-align: right;\">\n",
       "      <th></th>\n",
       "      <th>Label</th>\n",
       "      <th>Text</th>\n",
       "    </tr>\n",
       "  </thead>\n",
       "  <tbody>\n",
       "    <tr>\n",
       "      <th>0</th>\n",
       "      <td>Chinh tri Xa hoi</td>\n",
       "      <td>thành_lập dự_án policy phòng_chống hivaids ở v...</td>\n",
       "    </tr>\n",
       "    <tr>\n",
       "      <th>1</th>\n",
       "      <td>Chinh tri Xa hoi</td>\n",
       "      <td>hơn 16 000 khách đến vịnh nha trang theo trực_...</td>\n",
       "    </tr>\n",
       "    <tr>\n",
       "      <th>2</th>\n",
       "      <td>Chinh tri Xa hoi</td>\n",
       "      <td>tphcm khai_trương dịch_vụ lặn biển săn cá_mập ...</td>\n",
       "    </tr>\n",
       "    <tr>\n",
       "      <th>3</th>\n",
       "      <td>Chinh tri Xa hoi</td>\n",
       "      <td>du_lịch vn sẽ có tư_vấn nước_ngoài ông phạm từ...</td>\n",
       "    </tr>\n",
       "    <tr>\n",
       "      <th>4</th>\n",
       "      <td>Chinh tri Xa hoi</td>\n",
       "      <td>quy_chế tuyển_sinh 2006 không làm_tròn điểm từ...</td>\n",
       "    </tr>\n",
       "  </tbody>\n",
       "</table>\n",
       "</div>"
      ],
      "text/plain": [
       "              Label                                               Text\n",
       "0  Chinh tri Xa hoi  thành_lập dự_án policy phòng_chống hivaids ở v...\n",
       "1  Chinh tri Xa hoi  hơn 16 000 khách đến vịnh nha trang theo trực_...\n",
       "2  Chinh tri Xa hoi  tphcm khai_trương dịch_vụ lặn biển săn cá_mập ...\n",
       "3  Chinh tri Xa hoi  du_lịch vn sẽ có tư_vấn nước_ngoài ông phạm từ...\n",
       "4  Chinh tri Xa hoi  quy_chế tuyển_sinh 2006 không làm_tròn điểm từ..."
      ]
     },
     "execution_count": 2,
     "metadata": {},
     "output_type": "execute_result"
    }
   ],
   "source": [
    "df = pd.read_csv(\"F://NLP_ProjectII/merged.csv\", encoding='utf-16')\n",
    "df.head()"
   ]
  },
  {
   "cell_type": "code",
   "execution_count": 3,
   "metadata": {},
   "outputs": [
    {
     "name": "stdout",
     "output_type": "stream",
     "text": [
      "<class 'pandas.core.frame.DataFrame'>\n",
      "RangeIndex: 84132 entries, 0 to 84131\n",
      "Data columns (total 2 columns):\n",
      " #   Column  Non-Null Count  Dtype \n",
      "---  ------  --------------  ----- \n",
      " 0   Label   84132 non-null  object\n",
      " 1   Text    84132 non-null  object\n",
      "dtypes: object(2)\n",
      "memory usage: 1.3+ MB\n"
     ]
    }
   ],
   "source": [
    "df.info()"
   ]
  },
  {
   "cell_type": "code",
   "execution_count": 4,
   "metadata": {},
   "outputs": [
    {
     "name": "stdout",
     "output_type": "stream",
     "text": [
      "Label\n",
      "Chinh tri Xa hoi    12786\n",
      "The thao            11965\n",
      "The gioi             9614\n",
      "Van hoa              9330\n",
      "Suc khoe             8801\n",
      "Kinh doanh           7828\n",
      "Phap luat            7656\n",
      "Vi tinh              7041\n",
      "Doi song             5195\n",
      "Khoa hoc             3916\n",
      "Name: count, dtype: int64\n"
     ]
    }
   ],
   "source": [
    "label_counts = df['Label'].value_counts()\n",
    "print(label_counts)"
   ]
  },
  {
   "cell_type": "code",
   "execution_count": 5,
   "metadata": {},
   "outputs": [],
   "source": [
    "X_train, X_test, y_train, y_test = train_test_split(df.Text, df.Label, test_size=0.3, random_state=42)"
   ]
  },
  {
   "cell_type": "code",
   "execution_count": 6,
   "metadata": {},
   "outputs": [],
   "source": [
    "X_train, X_valid, y_train, y_valid = train_test_split(X_train, y_train, test_size=0.1, random_state=42) "
   ]
  },
  {
   "cell_type": "code",
   "execution_count": 7,
   "metadata": {},
   "outputs": [
    {
     "name": "stdout",
     "output_type": "stream",
     "text": [
      "53002\n",
      "5890\n",
      "25240\n"
     ]
    }
   ],
   "source": [
    "print(X_train.count())\n",
    "print(X_valid.count())\n",
    "print(X_test.count())"
   ]
  },
  {
   "attachments": {},
   "cell_type": "markdown",
   "metadata": {},
   "source": [
    "Naive Bayes"
   ]
  },
  {
   "cell_type": "code",
   "execution_count": 8,
   "metadata": {},
   "outputs": [
    {
     "name": "stdout",
     "output_type": "stream",
     "text": [
      "Time train:  15.578644514083862\n",
      "                  precision    recall  f1-score   support\n",
      "\n",
      "Chinh tri Xa hoi       0.60      0.95      0.74      3914\n",
      "        Doi song       0.98      0.19      0.32      1514\n",
      "        Khoa hoc       0.98      0.10      0.18      1159\n",
      "      Kinh doanh       0.93      0.74      0.82      2300\n",
      "       Phap luat       0.98      0.76      0.85      2377\n",
      "        Suc khoe       0.82      0.91      0.86      2521\n",
      "        The gioi       0.92      0.88      0.90      2960\n",
      "        The thao       0.98      0.98      0.98      3591\n",
      "         Van hoa       0.67      0.95      0.79      2790\n",
      "         Vi tinh       0.97      0.82      0.89      2114\n",
      "\n",
      "        accuracy                           0.81     25240\n",
      "       macro avg       0.88      0.73      0.73     25240\n",
      "    weighted avg       0.86      0.81      0.79     25240\n",
      "\n"
     ]
    }
   ],
   "source": [
    "steps =[]\n",
    "steps.append(('CountVectorizer', CountVectorizer()))\n",
    "steps.append(('TfidfTransformer', TfidfTransformer()))\n",
    "steps.append(('MultinomialNB', naive_bayes.MultinomialNB()))\n",
    "\n",
    "model = Pipeline(steps)\n",
    "\n",
    "start = time.time()\n",
    "model.fit(X_train, y_train)\n",
    "end=time.time()\n",
    "y_pred = model.predict(X_test)\n",
    "report = metrics.classification_report(y_test, y_pred)\n",
    "print(\"Time train: \", end-start)\n",
    "print(report)\n",
    "pickle.dump(model, open('modelNaiveBayes.pkl','wb'))"
   ]
  },
  {
   "attachments": {},
   "cell_type": "markdown",
   "metadata": {},
   "source": [
    "SVM"
   ]
  },
  {
   "cell_type": "code",
   "execution_count": 9,
   "metadata": {},
   "outputs": [
    {
     "name": "stdout",
     "output_type": "stream",
     "text": [
      "Time train:  369.98260140419006\n",
      "                  precision    recall  f1-score   support\n",
      "\n",
      "Chinh tri Xa hoi       0.89      0.89      0.89      3914\n",
      "        Doi song       0.88      0.84      0.86      1514\n",
      "        Khoa hoc       0.89      0.85      0.87      1159\n",
      "      Kinh doanh       0.92      0.93      0.92      2300\n",
      "       Phap luat       0.95      0.92      0.93      2377\n",
      "        Suc khoe       0.93      0.95      0.94      2521\n",
      "        The gioi       0.95      0.95      0.95      2960\n",
      "        The thao       0.99      0.98      0.99      3591\n",
      "         Van hoa       0.95      0.96      0.95      2790\n",
      "         Vi tinh       0.94      0.96      0.95      2114\n",
      "\n",
      "        accuracy                           0.93     25240\n",
      "       macro avg       0.93      0.92      0.93     25240\n",
      "    weighted avg       0.93      0.93      0.93     25240\n",
      "\n"
     ]
    }
   ],
   "source": [
    "steps = []\n",
    "steps.append(('CountVectorizer', CountVectorizer(ngram_range=(1, 5), max_df=0.5, min_df=5)))\n",
    "steps.append(('TfidfTransformer', TfidfTransformer()))\n",
    "steps.append(('SVM', svm.LinearSVC(tol=1e-3, penalty=\"l2\")))\n",
    "\n",
    "model = Pipeline(steps)\n",
    "start = time.time()\n",
    "model.fit(X_train, y_train)\n",
    "end=time.time()\n",
    "y_pred = model.predict(X_test)\n",
    "print(\"Time train: \", end-start)\n",
    "report = metrics.classification_report(y_test, y_pred)\n",
    "print(report)\n",
    "pickle.dump(model, open('modelSVM.pkl','wb'))"
   ]
  },
  {
   "attachments": {},
   "cell_type": "markdown",
   "metadata": {},
   "source": [
    "KNN"
   ]
  },
  {
   "cell_type": "code",
   "execution_count": null,
   "metadata": {},
   "outputs": [],
   "source": [
    "steps = []\n",
    "steps.append(('CountVectorizer', CountVectorizer(ngram_range=(1, 3), max_df=0.5, min_df=5)))\n",
    "steps.append(('TfidfTransformer', TfidfTransformer()))\n",
    "steps.append(('KNN', neighbors.KNeighborsClassifier(n_neighbors=3, weights='distance', p=2, metric='minkowski')))\n",
    "\n",
    "model = Pipeline(steps)\n",
    "start = time.time()\n",
    "model.fit(X_train, y_train)\n",
    "end=time.time()\n",
    "y_pred = model.predict(X_test)\n",
    "report = metrics.classification_report(y_test, y_pred)\n",
    "print(\"Time train: \", end-start)\n",
    "print(report)\n",
    "pickle.dump(model, open('modelKNN.pkl','wb'))"
   ]
  }
 ],
 "metadata": {
  "kernelspec": {
   "display_name": "Python 3",
   "language": "python",
   "name": "python3"
  },
  "language_info": {
   "codemirror_mode": {
    "name": "ipython",
    "version": 3
   },
   "file_extension": ".py",
   "mimetype": "text/x-python",
   "name": "python",
   "nbconvert_exporter": "python",
   "pygments_lexer": "ipython3",
   "version": "3.10.10"
  },
  "orig_nbformat": 4
 },
 "nbformat": 4,
 "nbformat_minor": 2
}
