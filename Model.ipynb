{
 "cells": [
  {
   "cell_type": "code",
   "execution_count": 1,
   "metadata": {},
   "outputs": [],
   "source": [
    "from __future__ import print_function\n",
    "from sklearn.model_selection import train_test_split\n",
    "from sklearn import naive_bayes, metrics, svm\n",
    "from sklearn.feature_extraction.text import CountVectorizer,TfidfTransformer\n",
    "from sklearn.model_selection import train_test_split\n",
    "from sklearn.pipeline import Pipeline\n",
    "from sklearn import neighbors\n",
    "import matplotlib.pyplot as plt\n",
    "import pandas as pd\n",
    "import pickle\n",
    "import time\n",
    "import pandas as pd"
   ]
  },
  {
   "cell_type": "code",
   "execution_count": 2,
   "metadata": {},
   "outputs": [
    {
     "data": {
      "text/html": [
       "<div>\n",
       "<style scoped>\n",
       "    .dataframe tbody tr th:only-of-type {\n",
       "        vertical-align: middle;\n",
       "    }\n",
       "\n",
       "    .dataframe tbody tr th {\n",
       "        vertical-align: top;\n",
       "    }\n",
       "\n",
       "    .dataframe thead th {\n",
       "        text-align: right;\n",
       "    }\n",
       "</style>\n",
       "<table border=\"1\" class=\"dataframe\">\n",
       "  <thead>\n",
       "    <tr style=\"text-align: right;\">\n",
       "      <th></th>\n",
       "      <th>Label</th>\n",
       "      <th>Text</th>\n",
       "    </tr>\n",
       "  </thead>\n",
       "  <tbody>\n",
       "    <tr>\n",
       "      <th>0</th>\n",
       "      <td>Chinh tri Xa hoi</td>\n",
       "      <td>thành_lập dự_án policy phòng_chống hivaids ở v...</td>\n",
       "    </tr>\n",
       "    <tr>\n",
       "      <th>1</th>\n",
       "      <td>Chinh tri Xa hoi</td>\n",
       "      <td>hơn 16 000 khách đến vịnh nha trang theo trực_...</td>\n",
       "    </tr>\n",
       "    <tr>\n",
       "      <th>2</th>\n",
       "      <td>Chinh tri Xa hoi</td>\n",
       "      <td>tphcm khai_trương dịch_vụ lặn biển săn cá_mập ...</td>\n",
       "    </tr>\n",
       "    <tr>\n",
       "      <th>3</th>\n",
       "      <td>Chinh tri Xa hoi</td>\n",
       "      <td>du_lịch vn sẽ có tư_vấn nước_ngoài ông phạm từ...</td>\n",
       "    </tr>\n",
       "    <tr>\n",
       "      <th>4</th>\n",
       "      <td>Chinh tri Xa hoi</td>\n",
       "      <td>quy_chế tuyển_sinh 2006 không làm_tròn điểm từ...</td>\n",
       "    </tr>\n",
       "  </tbody>\n",
       "</table>\n",
       "</div>"
      ],
      "text/plain": [
       "              Label                                               Text\n",
       "0  Chinh tri Xa hoi  thành_lập dự_án policy phòng_chống hivaids ở v...\n",
       "1  Chinh tri Xa hoi  hơn 16 000 khách đến vịnh nha trang theo trực_...\n",
       "2  Chinh tri Xa hoi  tphcm khai_trương dịch_vụ lặn biển săn cá_mập ...\n",
       "3  Chinh tri Xa hoi  du_lịch vn sẽ có tư_vấn nước_ngoài ông phạm từ...\n",
       "4  Chinh tri Xa hoi  quy_chế tuyển_sinh 2006 không làm_tròn điểm từ..."
      ]
     },
     "execution_count": 2,
     "metadata": {},
     "output_type": "execute_result"
    }
   ],
   "source": [
    "data_train = pd.read_csv(\"F://NLP_ProjectII/train_data.csv\", encoding='utf-16')\n",
    "data_test = pd.read_csv(\"F://NLP_ProjectII/test_data.csv\", encoding='utf-16')\n",
    "data_train.head()"
   ]
  },
  {
   "cell_type": "code",
   "execution_count": 3,
   "metadata": {},
   "outputs": [
    {
     "name": "stdout",
     "output_type": "stream",
     "text": [
      "<class 'pandas.core.frame.DataFrame'>\n",
      "RangeIndex: 33759 entries, 0 to 33758\n",
      "Data columns (total 2 columns):\n",
      " #   Column  Non-Null Count  Dtype \n",
      "---  ------  --------------  ----- \n",
      " 0   Label   33759 non-null  object\n",
      " 1   Text    33759 non-null  object\n",
      "dtypes: object(2)\n",
      "memory usage: 527.6+ KB\n",
      "<class 'pandas.core.frame.DataFrame'>\n",
      "RangeIndex: 50373 entries, 0 to 50372\n",
      "Data columns (total 2 columns):\n",
      " #   Column  Non-Null Count  Dtype \n",
      "---  ------  --------------  ----- \n",
      " 0   Label   50373 non-null  object\n",
      " 1   Text    50373 non-null  object\n",
      "dtypes: object(2)\n",
      "memory usage: 787.2+ KB\n"
     ]
    }
   ],
   "source": [
    "data_train.info()\n",
    "data_test.info()"
   ]
  },
  {
   "cell_type": "code",
   "execution_count": 4,
   "metadata": {},
   "outputs": [
    {
     "name": "stdout",
     "output_type": "stream",
     "text": [
      "Label\n",
      "The thao            5298\n",
      "Chinh tri Xa hoi    5219\n",
      "Phap luat           3868\n",
      "Suc khoe            3384\n",
      "Doi song            3159\n",
      "Van hoa             3080\n",
      "The gioi            2898\n",
      "Kinh doanh          2552\n",
      "Vi tinh             2481\n",
      "Khoa hoc            1820\n",
      "Name: count, dtype: int64\n"
     ]
    }
   ],
   "source": [
    "label_counts = data_train['Label'].value_counts()\n",
    "print(label_counts)"
   ]
  },
  {
   "cell_type": "code",
   "execution_count": 5,
   "metadata": {},
   "outputs": [
    {
     "name": "stdout",
     "output_type": "stream",
     "text": [
      "33759\n",
      "50373\n"
     ]
    }
   ],
   "source": [
    "X_train = data_train['Text']\n",
    "y_train = data_train['Label']\n",
    "X_test = data_test['Text']\n",
    "y_test = data_test['Label']\n",
    "\n",
    "print(X_train.count())\n",
    "print(X_test.count())"
   ]
  },
  {
   "attachments": {},
   "cell_type": "markdown",
   "metadata": {},
   "source": [
    "Naive Bayes"
   ]
  },
  {
   "cell_type": "code",
   "execution_count": 6,
   "metadata": {},
   "outputs": [
    {
     "name": "stdout",
     "output_type": "stream",
     "text": [
      "Accuracy: 0.8010839140015484\n",
      "Time train:  9.26717233657837\n"
     ]
    }
   ],
   "source": [
    "steps =[]\n",
    "steps.append(('CountVectorizer', CountVectorizer()))\n",
    "steps.append(('TfidfTransformer', TfidfTransformer()))\n",
    "steps.append(('MultinomialNB', naive_bayes.MultinomialNB()))\n",
    "\n",
    "model = Pipeline(steps)\n",
    "\n",
    "start = time.time()\n",
    "model.fit(X_train, y_train)\n",
    "end=time.time()\n",
    "y_pred = model.predict(X_test)\n",
    "print(\"Accuracy:\",metrics.accuracy_score(y_test, y_pred))\n",
    "print(\"Time train: \", end-start)\n",
    "\n",
    "pickle.dump(model, open('modelNaiveBayes.pkl','wb'))"
   ]
  },
  {
   "attachments": {},
   "cell_type": "markdown",
   "metadata": {},
   "source": [
    "SVM"
   ]
  },
  {
   "cell_type": "code",
   "execution_count": 7,
   "metadata": {},
   "outputs": [
    {
     "name": "stdout",
     "output_type": "stream",
     "text": [
      "Accuracy: 0.9272626208484704\n",
      "Time train:  162.84376406669617\n"
     ]
    }
   ],
   "source": [
    "steps = []\n",
    "steps.append(('CountVectorizer', CountVectorizer(ngram_range=(1, 5), max_df=0.5, min_df=5)))\n",
    "steps.append(('TfidfTransformer', TfidfTransformer()))\n",
    "steps.append(('SVM', svm.LinearSVC(tol=1e-3, penalty=\"l2\")))\n",
    "\n",
    "model = Pipeline(steps)\n",
    "start = time.time()\n",
    "model.fit(X_train, y_train)\n",
    "end=time.time()\n",
    "y_pred = model.predict(X_test)\n",
    "print(\"Accuracy:\",metrics.accuracy_score(y_test, y_pred))\n",
    "print(\"Time train: \", end-start)\n",
    "\n",
    "pickle.dump(model, open('modelSVM.pkl','wb'))"
   ]
  },
  {
   "attachments": {},
   "cell_type": "markdown",
   "metadata": {},
   "source": [
    "KNN"
   ]
  },
  {
   "cell_type": "code",
   "execution_count": 8,
   "metadata": {},
   "outputs": [],
   "source": [
    "steps = []\n",
    "steps.append(('CountVectorizer', CountVectorizer(ngram_range=(1, 3), max_df=0.5, min_df=5)))\n",
    "steps.append(('TfidfTransformer', TfidfTransformer()))\n",
    "steps.append(('KNN', neighbors.KNeighborsClassifier(n_neighbors=3, weights='distance', p=2, metric='minkowski')))\n",
    "\n",
    "model = Pipeline(steps)\n",
    "start = time.time()\n",
    "model.fit(X_train, y_train)\n",
    "end=time.time()\n",
    "y_pred = model.predict(X_test)\n",
    "print(\"Accuracy:\",metrics.accuracy_score(y_test, y_pred))\n",
    "print(\"Time train: \", end-start)\n",
    "\n",
    "pickle.dump(model, open('modelKNN.pkl','wb'))"
   ]
  }
 ],
 "metadata": {
  "kernelspec": {
   "display_name": "Python 3",
   "language": "python",
   "name": "python3"
  },
  "language_info": {
   "codemirror_mode": {
    "name": "ipython",
    "version": 3
   },
   "file_extension": ".py",
   "mimetype": "text/x-python",
   "name": "python",
   "nbconvert_exporter": "python",
   "pygments_lexer": "ipython3",
   "version": "3.10.10"
  },
  "orig_nbformat": 4
 },
 "nbformat": 4,
 "nbformat_minor": 2
}
