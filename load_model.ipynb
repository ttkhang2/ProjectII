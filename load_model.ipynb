{
 "cells": [
  {
   "cell_type": "code",
   "execution_count": 5,
   "metadata": {},
   "outputs": [],
   "source": [
    "import pickle\n",
    "\n",
    "model = pickle.load(open('F://NLP_ProjectII/modelSVM.pkl', 'rb'))\n"
   ]
  },
  {
   "cell_type": "code",
   "execution_count": 12,
   "metadata": {},
   "outputs": [
    {
     "name": "stdout",
     "output_type": "stream",
     "text": [
      "một công_ty anh đầu_tư xây_dựng cảng ở tp hcm ubnd tp hcm vừa chấp_nhận cho công_ty pq ports anh đầu_tư xây_dựng cảng tại khu công_nghiệp hiệp phước huyện nhà_bè dự_án đang được hoàn_tất thủ_tục để trình thủ_tướng chính_phủ và gửi bộ kế_hoạch và đầu_tư đây là cảng container có tổng vốn đầu_tư 300 triệu usd và sản_lượng hằng năm khoảng 1 5 triệu teu container 20 feet ông nguyễn văn lộc phó_ban quản_lý khu công_nghiệp cho biết po sẽ thành_lập liên_doanh với công_ty phát_triển công_nghiệp tân_thuận để triển_khai dự_án này trong đó po nắm 80 tổng_vốn dự_kiến khởi_công xây_dựng quý 12006 để tạo thuận_lợi cho việc hoàn_tất thủ_tục và tăng tính hiệu_quả cho dự_án ubnd tp hcm đã chỉ_đạo các đơn_vị thực_hiện và xúc_tiến tiếp các dự_án liên_quan cụ_thể sở giao_thông công_chính tp hcm sẽ triển_khai đầu_tư giai_đoạn 2 dự_án đường nguyễn hữu thọ quận 7 và các cầu trên tuyến đồng_thời tổ_chức thuê đơn_vị tư_vấn nước_ngoài để giám_sát dự_án còn sở kế_hoạch và đầu_tư tổ_chức thẩm_định đầu_tư dự_án xây_dựng cầu đồng_tiền và giai_đoạn 2 dự_án đường vào khu công_nghiệp hiệp phước về kế_hoạch cân_đối vốn đầu_tư cho các dự_án và công_trình thời_hạn mà sở kế_hoạch và đầu_tư phải báo_cáo ubnd tp hcm được xác_định trong tháng 92005\n",
      "Kinh doanh\n",
      "['Kinh doanh']\n"
     ]
    }
   ],
   "source": [
    "import pandas as pd\n",
    "data_test = pd.read_csv(\"F://NLP_ProjectII/test_data.csv\", encoding='utf-16')\n",
    "X_test = data_test['Text']\n",
    "y_test = data_test['Label']\n",
    "print(X_test[15000])\n",
    "print(y_test[15000])\n",
    "print(model.predict([X_test[15000]]))"
   ]
  },
  {
   "cell_type": "code",
   "execution_count": null,
   "metadata": {},
   "outputs": [],
   "source": []
  }
 ],
 "metadata": {
  "kernelspec": {
   "display_name": "Python 3",
   "language": "python",
   "name": "python3"
  },
  "language_info": {
   "codemirror_mode": {
    "name": "ipython",
    "version": 3
   },
   "file_extension": ".py",
   "mimetype": "text/x-python",
   "name": "python",
   "nbconvert_exporter": "python",
   "pygments_lexer": "ipython3",
   "version": "3.10.10"
  },
  "orig_nbformat": 4
 },
 "nbformat": 4,
 "nbformat_minor": 2
}
